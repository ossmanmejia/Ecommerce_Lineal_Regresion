{
 "cells": [
  {
   "cell_type": "markdown",
   "id": "c439a491",
   "metadata": {},
   "source": [
    "# Regresión Lineal con Múltiples Características\n",
    "En este tutorial, aprenderemos cómo implementar una regresión lineal multivariable para predecir emisiones de CO2 basadas en el tamaño del motor, el número de cilindros y el consumo de combustible. Usaremos el conjunto de datos `FuelConsumptionCo2.csv`."
   ]
  },
  {
   "cell_type": "markdown",
   "id": "47ba99fc",
   "metadata": {},
   "source": [
    "## Paso 1: Importar las bibliotecas necesarias\n",
    "Primero, importemos las bibliotecas que utilizaremos para analizar los datos y construir el modelo de regresión lineal."
   ]
  },
  {
   "cell_type": "code",
   "execution_count": null,
   "id": "69eac052",
   "metadata": {},
   "outputs": [],
   "source": [
    "import pandas as pd\n",
    "import seaborn as sns\n",
    "import matplotlib.pyplot as plt\n",
    "import numpy as np"
   ]
  },
  {
   "cell_type": "markdown",
   "id": "1476c6c0",
   "metadata": {},
   "source": [
    "## Paso 2: Cargar el conjunto de datos\n",
    "Ahora, cargaremos los datos de `FuelConsumptionCo2.csv`. Asegúrate de que el archivo esté en el directorio correcto."
   ]
  },
  {
   "cell_type": "code",
   "execution_count": null,
   "id": "e81e0de4",
   "metadata": {},
   "outputs": [],
   "source": [
    "df = pd.read_csv('FuelConsumptionCo2.csv')\n",
    "df.head()"
   ]
  },
  {
   "cell_type": "markdown",
   "id": "939186b0",
   "metadata": {},
   "source": [
    "## Paso 3: Información del conjunto de datos\n",
    "Es útil ver la estructura y tipos de datos para entender el conjunto de datos que estamos usando."
   ]
  },
  {
   "cell_type": "code",
   "execution_count": null,
   "id": "cd0b8b49",
   "metadata": {},
   "outputs": [],
   "source": [
    "df.info()"
   ]
  },
  {
   "cell_type": "markdown",
   "id": "d68d3c7f",
   "metadata": {},
   "source": [
    "## Paso 4: Análisis exploratorio de los datos\n",
    "Visualicemos la relación entre el tamaño del motor y las emisiones de CO2."
   ]
  },
  {
   "cell_type": "code",
   "execution_count": null,
   "id": "7adf43f3",
   "metadata": {},
   "outputs": [],
   "source": [
    "sns.jointplot(x=df.ENGINESIZE, y=df.CO2EMISSIONS, alpha=0.7)"
   ]
  },
  {
   "cell_type": "markdown",
   "id": "bc17ed53",
   "metadata": {},
   "source": [
    "## Paso 5: Selección de características\n",
    "Para la regresión, seleccionaremos algunas características clave que podrían ser útiles en nuestro modelo."
   ]
  },
  {
   "cell_type": "code",
   "execution_count": null,
   "id": "b1133831",
   "metadata": {},
   "outputs": [],
   "source": [
    "cdf = df[['ENGINESIZE', 'CYLINDERS', 'FUELCONSUMPTION_COMB', 'CO2EMISSIONS']]\n",
    "cdf.head()"
   ]
  },
  {
   "cell_type": "markdown",
   "id": "48b23da7",
   "metadata": {},
   "source": [
    "Visualicemos algunas correlaciones entre estas características."
   ]
  },
  {
   "cell_type": "code",
   "execution_count": null,
   "id": "3109db7a",
   "metadata": {},
   "outputs": [],
   "source": [
    "sns.pairplot(data=cdf, kind='scatter', plot_kws={'alpha': 0.4})"
   ]
  },
  {
   "cell_type": "markdown",
   "id": "0772395b",
   "metadata": {},
   "source": [
    "## Paso 6: Preparar los datos para el entrenamiento\n",
    "Dividamos los datos en un conjunto de entrenamiento y un conjunto de prueba."
   ]
  },
  {
   "cell_type": "code",
   "execution_count": null,
   "id": "50586aa6",
   "metadata": {},
   "outputs": [],
   "source": [
    "from sklearn.model_selection import train_test_split\n",
    "\n",
    "X = df[['ENGINESIZE', 'CYLINDERS', 'FUELCONSUMPTION_COMB']]\n",
    "y = df[['CO2EMISSIONS']]\n",
    "X_train, X_test, y_train, y_test = train_test_split(X, y, test_size=0.2, random_state=42)\n",
    "X_train.shape, X_test.shape"
   ]
  },
  {
   "cell_type": "markdown",
   "id": "66e587aa",
   "metadata": {},
   "source": [
    "## Paso 7: Crear el modelo de regresión lineal\n",
    "Ahora crearemos una instancia del modelo de regresión lineal y lo entrenaremos usando el conjunto de entrenamiento."
   ]
  },
  {
   "cell_type": "code",
   "execution_count": null,
   "id": "06c575b3",
   "metadata": {},
   "outputs": [],
   "source": [
    "from sklearn.linear_model import LinearRegression\n",
    "\n",
    "lm = LinearRegression()\n",
    "lm.fit(X_train, y_train)\n",
    "lm.coef_, lm.intercept_"
   ]
  },
  {
   "cell_type": "markdown",
   "id": "ee3f87ce",
   "metadata": {},
   "source": [
    "## Paso 8: Hacer predicciones\n",
    "Usaremos nuestro modelo para hacer predicciones en el conjunto de prueba."
   ]
  },
  {
   "cell_type": "code",
   "execution_count": null,
   "id": "eb3c1c2e",
   "metadata": {},
   "outputs": [],
   "source": [
    "predictions = lm.predict(X_test)\n",
    "predictions"
   ]
  },
  {
   "cell_type": "markdown",
   "id": "18196563",
   "metadata": {},
   "source": [
    "## Paso 9: Visualizar las predicciones\n",
    "Veamos cómo se comparan las predicciones con los datos reales."
   ]
  },
  {
   "cell_type": "code",
   "execution_count": null,
   "id": "7e4b1b46",
   "metadata": {},
   "outputs": [],
   "source": [
    "plt.scatter(X_test.ENGINESIZE, predictions, color='red', alpha=0.7, label='Predicciones')\n",
    "plt.scatter(X_test.ENGINESIZE, y_test, color='blue', alpha=0.7, label='Datos reales')\n",
    "plt.legend()"
   ]
  },
  {
   "cell_type": "markdown",
   "id": "84ecefdf",
   "metadata": {},
   "source": [
    "## Paso 10: Evaluación del modelo\n",
    "Evaluaremos el rendimiento de nuestro modelo utilizando métricas de error comúnmente usadas."
   ]
  },
  {
   "cell_type": "code",
   "execution_count": null,
   "id": "54fd6dd3",
   "metadata": {},
   "outputs": [],
   "source": [
    "from sklearn.metrics import mean_absolute_error, mean_squared_error, r2_score\n",
    "\n",
    "mse = mean_squared_error(y_test, predictions)\n",
    "mae = mean_absolute_error(y_test, predictions)\n",
    "rmse = mse**0.5\n",
    "r2 = r2_score(y_test, predictions)\n",
    "\n",
    "print(f\"Mean Absolute Error (MAE): {mae:.2f}\")\n",
    "print(f\"Mean Squared Error (MSE): {mse:.2f}\")\n",
    "print(f\"Root Mean Squared Error (RMSE): {rmse:.2f}\")\n",
    "print(f\"R-squared (R2): {r2:.2f}\")"
   ]
  },
  {
   "cell_type": "markdown",
   "id": "2c98385c",
   "metadata": {},
   "source": [
    "## Paso 11: Análisis de residuos\n",
    "Para asegurar que nuestros residuos están distribuidos normalmente, visualizaremos el histograma de los residuos."
   ]
  },
  {
   "cell_type": "code",
   "execution_count": null,
   "id": "c887e932",
   "metadata": {},
   "outputs": [],
   "source": [
    "res = y_test - predictions\n",
    "sns.histplot(res, bins='auto', kde=True)"
   ]
  }
 ],
 "metadata": {},
 "nbformat": 4,
 "nbformat_minor": 5
}
